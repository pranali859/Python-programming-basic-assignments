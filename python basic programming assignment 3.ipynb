{
 "cells": [
  {
   "cell_type": "markdown",
   "id": "ba92c613",
   "metadata": {},
   "source": [
    "1. Write a Python Program to Check if a Number is Positive, Negative or Zero?"
   ]
  },
  {
   "cell_type": "code",
   "execution_count": 1,
   "id": "dab798ee",
   "metadata": {},
   "outputs": [
    {
     "name": "stdout",
     "output_type": "stream",
     "text": [
      "Enter a number: 5\n",
      "Number is positive\n"
     ]
    }
   ],
   "source": [
    "num=int(input(\"Enter a number: \"))\n",
    "\n",
    "if num>0:\n",
    "    print(\"Number is positive\")\n",
    "elif num==0:\n",
    "    print(\"Number is 0\")\n",
    "else:\n",
    "    print(\"Number is negative\")"
   ]
  },
  {
   "cell_type": "markdown",
   "id": "d09d43e1",
   "metadata": {},
   "source": [
    "2. Write a Python Program to Check if a Number is Odd or Even?"
   ]
  },
  {
   "cell_type": "code",
   "execution_count": 2,
   "id": "31a9509e",
   "metadata": {},
   "outputs": [
    {
     "name": "stdout",
     "output_type": "stream",
     "text": [
      "Enter a number: 8\n",
      "Number is Even\n"
     ]
    }
   ],
   "source": [
    "num1=int(input(\"Enter a number: \"))\n",
    "\n",
    "if num1%2==0:\n",
    "    print(\"Number is Even\")\n",
    "else:\n",
    "    print(\"Number is odd\")"
   ]
  },
  {
   "cell_type": "markdown",
   "id": "118dc50b",
   "metadata": {},
   "source": [
    "3. Write a Python Program to Check Leap Year?"
   ]
  },
  {
   "cell_type": "code",
   "execution_count": 3,
   "id": "1856dbb6",
   "metadata": {},
   "outputs": [
    {
     "name": "stdout",
     "output_type": "stream",
     "text": [
      "Enter a year: 1998\n",
      "this is not a leap year\n"
     ]
    }
   ],
   "source": [
    "year= int(input(\"Enter a year: \"))\n",
    "\n",
    "if (year%4 == 0) and (year%100 != 0):\n",
    "    print(f\"{year} is a leap year\")\n",
    "elif (year%100 == 0) and (year%400 == 0):\n",
    "    print(f\"{year} is a leap year\")\n",
    "else:\n",
    "    print(\"this is not a leap year\")"
   ]
  },
  {
   "cell_type": "markdown",
   "id": "4411428d",
   "metadata": {},
   "source": [
    "4. Write a Python Program to Check Prime Number?"
   ]
  },
  {
   "cell_type": "code",
   "execution_count": 8,
   "id": "4b46af9e",
   "metadata": {},
   "outputs": [
    {
     "name": "stdout",
     "output_type": "stream",
     "text": [
      "Enter a number: 20\n",
      "not a prime number\n"
     ]
    }
   ],
   "source": [
    "num2 = int(input(\"Enter a number: \"))\n",
    "\n",
    "for i in range(2,num2):\n",
    "    if num2%i==0:\n",
    "        print(\"not a prime number\")\n",
    "        break\n",
    "else:\n",
    "    print(\"it is a prime number\")"
   ]
  },
  {
   "cell_type": "markdown",
   "id": "4c57397f",
   "metadata": {},
   "source": [
    "5. Write a Python Program to Print all Prime Numbers in an Interval of 1-10000?"
   ]
  },
  {
   "cell_type": "code",
   "execution_count": 10,
   "id": "4f2eb27b",
   "metadata": {},
   "outputs": [
    {
     "name": "stdout",
     "output_type": "stream",
     "text": [
      "Enter a number: 1963\n",
      "not a prime number\n"
     ]
    }
   ],
   "source": [
    "num3 = int(input(\"Enter a number: \"))\n",
    "\n",
    "if num3>1 and num3<10000:\n",
    "    for i in range(2,num2):\n",
    "        if num2%i==0:\n",
    "            print(\"not a prime number\")\n",
    "            break\n",
    "    else:\n",
    "        print(\"it is a prime number\")\n",
    "        "
   ]
  },
  {
   "cell_type": "code",
   "execution_count": null,
   "id": "2af3cd77",
   "metadata": {},
   "outputs": [],
   "source": []
  }
 ],
 "metadata": {
  "kernelspec": {
   "display_name": "Python 3 (ipykernel)",
   "language": "python",
   "name": "python3"
  },
  "language_info": {
   "codemirror_mode": {
    "name": "ipython",
    "version": 3
   },
   "file_extension": ".py",
   "mimetype": "text/x-python",
   "name": "python",
   "nbconvert_exporter": "python",
   "pygments_lexer": "ipython3",
   "version": "3.9.7"
  }
 },
 "nbformat": 4,
 "nbformat_minor": 5
}
