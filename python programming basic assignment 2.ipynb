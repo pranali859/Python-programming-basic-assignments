{
 "cells": [
  {
   "cell_type": "markdown",
   "id": "5bc123f1",
   "metadata": {},
   "source": [
    "1. Write a Python program to convert kilometers to miles?"
   ]
  },
  {
   "cell_type": "code",
   "execution_count": 1,
   "id": "bc5c3afd",
   "metadata": {},
   "outputs": [
    {
     "name": "stdout",
     "output_type": "stream",
     "text": [
      "Enter a value: 20\n",
      "12.427399999999999\n"
     ]
    }
   ],
   "source": [
    "km=int(input(\"Enter a value: \"))\n",
    "confac=0.62137\n",
    "miles = km*confac\n",
    "print(miles)"
   ]
  },
  {
   "cell_type": "markdown",
   "id": "cae87d10",
   "metadata": {},
   "source": [
    "2. Write a Python program to convert Celsius to Fahrenheit?"
   ]
  },
  {
   "cell_type": "code",
   "execution_count": 3,
   "id": "2e5aa507",
   "metadata": {},
   "outputs": [
    {
     "name": "stdout",
     "output_type": "stream",
     "text": [
      "Enter celcius: 20\n",
      "68.0\n"
     ]
    }
   ],
   "source": [
    "C=int(input(\"Enter celcius: \"))\n",
    "F= (C * 9/5) + 32 \n",
    "print(F)"
   ]
  },
  {
   "cell_type": "markdown",
   "id": "a70ffcc2",
   "metadata": {},
   "source": [
    "3. Write a Python program to display calendar?"
   ]
  },
  {
   "cell_type": "code",
   "execution_count": 6,
   "id": "a85c2da5",
   "metadata": {},
   "outputs": [
    {
     "name": "stdout",
     "output_type": "stream",
     "text": [
      "Enter year: 2001\n",
      "Enter Month: 2\n",
      "   February 2001\n",
      "Mo Tu We Th Fr Sa Su\n",
      "          1  2  3  4\n",
      " 5  6  7  8  9 10 11\n",
      "12 13 14 15 16 17 18\n",
      "19 20 21 22 23 24 25\n",
      "26 27 28\n",
      "\n"
     ]
    }
   ],
   "source": [
    "import calendar\n",
    "Year=int(input(\"Enter year: \"))\n",
    "Month=int(input(\"Enter Month: \"))\n",
    "\n",
    "print(calendar.month(Year,Month))"
   ]
  },
  {
   "cell_type": "markdown",
   "id": "edbd2cef",
   "metadata": {},
   "source": [
    "4. Write a Python program to solve quadratic equation?"
   ]
  },
  {
   "cell_type": "code",
   "execution_count": 8,
   "id": "0f3b6620",
   "metadata": {},
   "outputs": [
    {
     "name": "stdout",
     "output_type": "stream",
     "text": [
      "Enter value for a: 2\n",
      "Enter value for b: 4\n",
      "Enter value for c: 6\n",
      "The solution is  (-1+1.4142135623730951j) (-1-1.4142135623730951j)\n"
     ]
    }
   ],
   "source": [
    "# Quadratic equation to be solved is ax**2 + bx + c=0\n",
    "# solution is (-b ± (b ** 2 - 4 * a * c) ** 0.5) / (2 * a)\n",
    "import cmath\n",
    "a=int(input(\"Enter value for a: \"))\n",
    "b=int(input(\"Enter value for b: \"))\n",
    "c=int(input(\"Enter value for c: \"))\n",
    "\n",
    "d = (b**2) - (4*a*c)\n",
    "\n",
    "ans1 = (-b + cmath.sqrt(d))/(2*a)\n",
    "ans2 = (-b - cmath.sqrt(d))/(2*a)\n",
    "\n",
    "print(\"The solution is \",ans1,ans2)\n",
    "\n"
   ]
  },
  {
   "cell_type": "code",
   "execution_count": 9,
   "id": "d724561f",
   "metadata": {},
   "outputs": [
    {
     "name": "stdout",
     "output_type": "stream",
     "text": [
      "8 5\n"
     ]
    }
   ],
   "source": [
    "x=5\n",
    "y=8\n",
    "\n",
    "x,y=y,x\n",
    "\n",
    "print(x,y)"
   ]
  },
  {
   "cell_type": "code",
   "execution_count": null,
   "id": "3b577d91",
   "metadata": {},
   "outputs": [],
   "source": []
  }
 ],
 "metadata": {
  "kernelspec": {
   "display_name": "Python 3 (ipykernel)",
   "language": "python",
   "name": "python3"
  },
  "language_info": {
   "codemirror_mode": {
    "name": "ipython",
    "version": 3
   },
   "file_extension": ".py",
   "mimetype": "text/x-python",
   "name": "python",
   "nbconvert_exporter": "python",
   "pygments_lexer": "ipython3",
   "version": "3.9.7"
  }
 },
 "nbformat": 4,
 "nbformat_minor": 5
}
